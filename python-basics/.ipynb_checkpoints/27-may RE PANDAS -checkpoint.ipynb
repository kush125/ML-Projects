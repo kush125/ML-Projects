{
 "cells": [
  {
   "cell_type": "markdown",
   "metadata": {},
   "source": [
    "### Regular Expression"
   ]
  },
  {
   "cell_type": "code",
   "execution_count": 11,
   "metadata": {},
   "outputs": [
    {
     "name": "stdout",
     "output_type": "stream",
     "text": [
      "['27', '43', '26', '21']\n",
      "['Ram', 'Hari', 'Gita', 'Sita']\n",
      "{'Ram': '27', 'Hari': '43', 'Gita': '26', 'Sita': '21'}\n"
     ]
    }
   ],
   "source": [
    "import re\n",
    "\n",
    "nameAge = '''Ram is 27 and bHari 43\n",
    "Gita is 26 and Sita is 21'''\n",
    "\n",
    "ages = re.findall(r'\\d{1,9}',nameAge)\n",
    "print (ages)\n",
    "\n",
    "names = re.findall(r'[A-Z][a-z]*',nameAge)\n",
    "print (names)\n",
    "\n",
    "Emp_Disc = {}\n",
    "x = 0\n",
    "\n",
    "for eachname in names:\n",
    "    Emp_Disc[eachname] = ages[x]\n",
    "    x+=1\n",
    "print(Emp_Disc)"
   ]
  },
  {
   "cell_type": "markdown",
   "metadata": {},
   "source": [
    "# Pandas\n",
    "#### It is a software library written for the python programming language for data manipulation and analysis\n",
    "### Pandas Operations:\n",
    "##### Slicing the data frame\n",
    "##### Joining and merging\n",
    "##### Changing the index\n",
    "##### Concatination\n",
    "##### Data conversion\n",
    "##### Changing the column headers"
   ]
  },
  {
   "cell_type": "code",
   "execution_count": 33,
   "metadata": {},
   "outputs": [
    {
     "name": "stdout",
     "output_type": "stream",
     "text": [
      "      Name  Age   Sal Sex\n",
      "0  Abinash   27  2.27   M\n",
      "1      Uma   26  2.65   M\n",
      "2  Khusboo   24  7.23   F\n",
      "3    Shree   22  5.29   F\n"
     ]
    }
   ],
   "source": [
    "#Reading csv file\n",
    "import pandas as pd\n",
    "test = pd.read_csv('data.csv')\n",
    "print (test)"
   ]
  },
  {
   "cell_type": "code",
   "execution_count": 27,
   "metadata": {},
   "outputs": [
    {
     "name": "stdout",
     "output_type": "stream",
     "text": [
      "(4, 4)\n"
     ]
    }
   ],
   "source": [
    "#Shape\n",
    "print(test.shape)"
   ]
  },
  {
   "cell_type": "code",
   "execution_count": 28,
   "metadata": {},
   "outputs": [
    {
     "name": "stdout",
     "output_type": "stream",
     "text": [
      "<class 'pandas.core.frame.DataFrame'>\n",
      "RangeIndex: 4 entries, 0 to 3\n",
      "Data columns (total 4 columns):\n",
      "Name    4 non-null object\n",
      "Age     4 non-null int64\n",
      "Sal     4 non-null float64\n",
      "Sex     4 non-null object\n",
      "dtypes: float64(1), int64(1), object(2)\n",
      "memory usage: 208.0+ bytes\n",
      "None\n"
     ]
    }
   ],
   "source": [
    "#info\n",
    "print (test.info())"
   ]
  },
  {
   "cell_type": "code",
   "execution_count": 29,
   "metadata": {},
   "outputs": [
    {
     "name": "stdout",
     "output_type": "stream",
     "text": [
      "             Age       Sal\n",
      "count   4.000000  4.000000\n",
      "mean   24.750000  4.360000\n",
      "std     2.217356  2.337663\n",
      "min    22.000000  2.270000\n",
      "25%    23.500000  2.555000\n",
      "50%    25.000000  3.970000\n",
      "75%    26.250000  5.775000\n",
      "max    27.000000  7.230000\n"
     ]
    }
   ],
   "source": [
    "#Describe\n",
    "print(test.describe())"
   ]
  },
  {
   "cell_type": "code",
   "execution_count": 31,
   "metadata": {},
   "outputs": [
    {
     "name": "stdout",
     "output_type": "stream",
     "text": [
      "      Name  Age   Sal Sex\n",
      "1      Uma   26  2.65   M\n",
      "3    Shree   22  5.29   F\n",
      "2  Khusboo   24  7.23   F\n",
      "0  Abinash   27  2.27   M\n"
     ]
    }
   ],
   "source": [
    "#Sort\n",
    "print(test.sort_values(by=['Name','Sal'],ascending = False))"
   ]
  },
  {
   "cell_type": "code",
   "execution_count": 35,
   "metadata": {},
   "outputs": [
    {
     "name": "stdout",
     "output_type": "stream",
     "text": [
      "    Name  Age   Sal Sex\n",
      "3  Shree   22  5.29   F\n",
      "      Name  Age   Sal Sex\n",
      "2  Khusboo   24  7.23   F\n",
      "3    Shree   22  5.29   F\n"
     ]
    }
   ],
   "source": [
    "#Slicing Rows\n",
    "print(test[-1:])\n",
    "print(test[-2:])"
   ]
  },
  {
   "cell_type": "code",
   "execution_count": 39,
   "metadata": {},
   "outputs": [
    {
     "name": "stdout",
     "output_type": "stream",
     "text": [
      "      Name  Age   Sal Sex\n",
      "0  Abinash   27  2.27   M\n",
      "1      Uma   26  2.65   M\n",
      "2  Khusboo   24  7.23   F\n"
     ]
    }
   ],
   "source": [
    "print(test.head(3))"
   ]
  },
  {
   "cell_type": "code",
   "execution_count": 41,
   "metadata": {},
   "outputs": [
    {
     "name": "stdout",
     "output_type": "stream",
     "text": [
      "      Name  Age   Sal Sex\n",
      "2  Khusboo   24  7.23   F\n",
      "3    Shree   22  5.29   F\n"
     ]
    }
   ],
   "source": [
    "print(test.tail(2))"
   ]
  },
  {
   "cell_type": "code",
   "execution_count": 43,
   "metadata": {},
   "outputs": [
    {
     "name": "stdout",
     "output_type": "stream",
     "text": [
      "      Name  Age   Sal\n",
      "0  Abinash   27  2.27\n",
      "1      Uma   26  2.65\n",
      "2  Khusboo   24  7.23\n",
      "      Name  Age   Sal\n",
      "0  Abinash   27  2.27\n",
      "1      Uma   26  2.65\n"
     ]
    }
   ],
   "source": [
    "print(test.loc[0:2,'Name':'Sal'])#indexing by name (inclusive)\n",
    "print(test.iloc[0:2,0:3])#index by column (exclusive)"
   ]
  },
  {
   "cell_type": "code",
   "execution_count": 56,
   "metadata": {},
   "outputs": [
    {
     "name": "stdout",
     "output_type": "stream",
     "text": [
      "\n",
      "   Age      Name    Sal\n",
      "2   23   Abinash  22.12\n",
      "3   24       Uma  21.12\n",
      "4   27  Khushboo  12.45\n",
      "5   19     Shree  11.87\n",
      "   Age1      Name1   Sal1\n",
      "7    32  Chabinash  32.12\n",
      "8    24       Tuma   9.12\n",
      "2    72    Lushboo   9.45\n",
      "\n",
      "   Age      Name    Sal  Age1    Name1  Sal1\n",
      "2   23   Abinash  22.12  72.0  Lushboo  9.45\n",
      "3   24       Uma  21.12   NaN      NaN   NaN\n",
      "4   27  Khushboo  12.45   NaN      NaN   NaN\n",
      "5   19     Shree  11.87   NaN      NaN   NaN\n",
      "\n",
      "   Age1      Name1   Sal1   Age     Name    Sal\n",
      "7    32  Chabinash  32.12   NaN      NaN    NaN\n",
      "8    24       Tuma   9.12   NaN      NaN    NaN\n",
      "2    72    Lushboo   9.45  23.0  Abinash  22.12\n"
     ]
    }
   ],
   "source": [
    "#Joining\n",
    "#creating 2 data frames\n",
    "a = pd.DataFrame({'Name':['Abinash','Uma','Khushboo','Shree'],'Age':[23,24,27,19],'Sal':[22.12,21.12,12.45,11.87]},\n",
    "                 index = [2,3,4,5])\n",
    "b = pd.DataFrame({'Name1':['Chabinash','Tuma','Lushboo'],'Age1':[32,24,72],'Sal1':[32.12,9.12,9.45]},\n",
    "                index = [7,8,2])\n",
    "print()\n",
    "print(a)\n",
    "print(b)\n",
    "print()\n",
    "c= a.join(b)\n",
    "print(c)\n",
    "print()\n",
    "d = b.join(a)\n",
    "print(d)"
   ]
  },
  {
   "cell_type": "code",
   "execution_count": 60,
   "metadata": {},
   "outputs": [
    {
     "name": "stdout",
     "output_type": "stream",
     "text": [
      "   Age       Name    Sal\n",
      "2   23    Abinash  22.12\n",
      "3   24        Uma  21.12\n",
      "4   27   Khushboo  12.45\n",
      "5   19      Shree  11.87\n",
      "7   32  Chabinash  32.12\n",
      "8   24       Tuma   9.12\n",
      "2   72    Lushboo   9.45\n"
     ]
    }
   ],
   "source": [
    "#Concatination\n",
    "a = pd.DataFrame({'Name':['Abinash','Uma','Khushboo','Shree'],'Age':[23,24,27,19],'Sal':[22.12,21.12,12.45,11.87]},\n",
    "                 index = [2,3,4,5])\n",
    "b = pd.DataFrame({'Name':['Chabinash','Tuma','Lushboo'],'Age':[32,24,72],'Sal':[32.12,9.12,9.45]},\n",
    "                index = [7,8,2])\n",
    "conc = pd.concat([a,b])\n",
    "print(conc)"
   ]
  },
  {
   "cell_type": "code",
   "execution_count": 63,
   "metadata": {},
   "outputs": [
    {
     "name": "stdout",
     "output_type": "stream",
     "text": [
      "Empty DataFrame\n",
      "Columns: [Age, Name, Sal]\n",
      "Index: []\n",
      "   Age Name_x  Sal_x Name_y  Sal_y\n",
      "0   24    Uma  21.12   Tuma   9.12\n"
     ]
    }
   ],
   "source": [
    "#Merging\n",
    "merge1 = pd.merge(a,b)\n",
    "print (merge1)\n",
    "merge = pd.merge(a,b,on='Age')\n",
    "print (merge)"
   ]
  },
  {
   "cell_type": "code",
   "execution_count": 68,
   "metadata": {},
   "outputs": [
    {
     "name": "stdout",
     "output_type": "stream",
     "text": [
      "   score  year\n",
      "0    923  2007\n",
      "1    879  2008\n",
      "2   1010  2009\n",
      "3   1311  2010\n",
      "      score\n",
      "year       \n",
      "2007    923\n",
      "2008    879\n",
      "2009   1010\n",
      "2010   1311\n"
     ]
    },
    {
     "data": {
      "image/png": "[encoded data removed]",
      "text/plain": [
       "<matplotlib.figure.Figure at 0x7fa5c88d7eb8>"
      ]
     },
     "metadata": {},
     "output_type": "display_data"
    }
   ],
   "source": [
    "import matplotlib.pyplot as plt\n",
    "from matplotlib import style\n",
    "style.use('fivethirtyeight')\n",
    "\n",
    "dhoni_data = pd.DataFrame({'year':[2007,2008,2009,2010],'score':[923,879,1010,1311]})\n",
    "print(dhoni_data)\n",
    "dhoni_data.set_index('year',inplace = True)#when True overwrite datafile, by default it's false and doesn't overwrite datafile\n",
    "print(dhoni_data)\n",
    "dhoni_data.plot()\n",
    "plt.show()"
   ]
  },
  {
   "cell_type": "code",
   "execution_count": 71,
   "metadata": {},
   "outputs": [
    {
     "name": "stdout",
     "output_type": "stream",
     "text": [
      "   score  year\n",
      "0    923  2007\n",
      "1    879  2008\n",
      "2   1010  2009\n",
      "3   1311  2010\n",
      "   runs  year\n",
      "0   923  2007\n",
      "1   879  2008\n",
      "2  1010  2009\n",
      "3  1311  2010\n"
     ]
    }
   ],
   "source": [
    "#Changing columns names\n",
    "dhoni_data = pd.DataFrame({'year':[2007,2008,2009,2010],'score':[923,879,1010,1311]})\n",
    "print(dhoni_data)\n",
    "dhoni_data = dhoni_data.rename(columns=({'score' : 'runs'}))\n",
    "print(dhoni_data)"
   ]
  },
  {
   "cell_type": "code",
   "execution_count": 72,
   "metadata": {},
   "outputs": [
    {
     "name": "stdout",
     "output_type": "stream",
     "text": [
      "      Name  Age   Sal Sex\n",
      "0  Abinash   27  2.27   M\n",
      "1      Uma   26  2.65   M\n",
      "2  Khusboo   24  7.23   F\n",
      "3    Shree   22  5.29   F\n"
     ]
    }
   ],
   "source": [
    "#Data Conversion csv to html\n",
    "test = pd.read_csv('data.csv')\n",
    "print(test)\n",
    "\n",
    "test.to_html('test.html')"
   ]
  },
  {
   "cell_type": "code",
   "execution_count": null,
   "metadata": {},
   "outputs": [],
   "source": []
  }
 ],
 "metadata": {
  "kernelspec": {
   "display_name": "Python 3",
   "language": "python",
   "name": "python3"
  },
  "language_info": {
   "codemirror_mode": {
    "name": "ipython",
    "version": 3
   },
   "file_extension": ".py",
   "mimetype": "text/x-python",
   "name": "python",
   "nbconvert_exporter": "python",
   "pygments_lexer": "ipython3",
   "version": "3.6.4"
  }
 },
 "nbformat": 4,
 "nbformat_minor": 2
}
