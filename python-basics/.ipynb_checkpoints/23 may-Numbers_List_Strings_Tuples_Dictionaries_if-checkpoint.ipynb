{
 "cells": [
  {
   "cell_type": "code",
   "execution_count": 1,
   "metadata": {},
   "outputs": [
    {
     "name": "stdout",
     "output_type": "stream",
     "text": [
      "my first python program\n"
     ]
    }
   ],
   "source": [
    "#Printing\n",
    "print('my first python program')"
   ]
  },
  {
   "cell_type": "markdown",
   "metadata": {},
   "source": [
    "# Numbers & Operators"
   ]
  },
  {
   "cell_type": "code",
   "execution_count": 2,
   "metadata": {},
   "outputs": [
    {
     "name": "stdout",
     "output_type": "stream",
     "text": [
      "rakesh\n"
     ]
    }
   ],
   "source": [
    "name = 'rakesh'\n",
    "print (name)"
   ]
  },
  {
   "cell_type": "code",
   "execution_count": 3,
   "metadata": {},
   "outputs": [
    {
     "name": "stdout",
     "output_type": "stream",
     "text": [
      "The sum of 5 + 2 is :  7\n",
      "The difference of 5 - 2 is :  3\n",
      "5 x 2 :  10\n",
      "5 / 2 :  2.5\n",
      "5 % 2 :  1\n"
     ]
    }
   ],
   "source": [
    "#Numbers => + - / % ** //\n",
    "print(\"The sum of 5 + 2 is : \",(5+2))\n",
    "print(\"The difference of 5 - 2 is : \",(5-2))\n",
    "print(\"5 x 2 : \",(5*2))\n",
    "print(\"5 / 2 : \",(5/2))\n",
    "print(\"5 % 2 : \",(5%2))"
   ]
  },
  {
   "cell_type": "code",
   "execution_count": 4,
   "metadata": {},
   "outputs": [
    {
     "name": "stdout",
     "output_type": "stream",
     "text": [
      "5 raised to 2 or 5 ** 2 :  25\n"
     ]
    }
   ],
   "source": [
    "print(\"5 raised to 2 or 5 ** 2 : \",(5**2))"
   ]
  },
  {
   "cell_type": "code",
   "execution_count": 5,
   "metadata": {},
   "outputs": [
    {
     "name": "stdout",
     "output_type": "stream",
     "text": [
      "Round value 5 // 2 :  2\n"
     ]
    }
   ],
   "source": [
    "print(\"Round value 5 // 2 : \",(5//2))"
   ]
  },
  {
   "cell_type": "code",
   "execution_count": 6,
   "metadata": {},
   "outputs": [
    {
     "name": "stdout",
     "output_type": "stream",
     "text": [
      "1+2-3*6: -15\n"
     ]
    }
   ],
   "source": [
    "print(\"1+2-3*6:\",(1+2-3*6))"
   ]
  },
  {
   "cell_type": "markdown",
   "metadata": {},
   "source": [
    "<h1>Comments</h1>"
   ]
  },
  {
   "cell_type": "code",
   "execution_count": 7,
   "metadata": {},
   "outputs": [
    {
     "data": {
      "text/plain": [
       "'this is a\\nmultiline comment'"
      ]
     },
     "execution_count": 7,
     "metadata": {},
     "output_type": "execute_result"
    }
   ],
   "source": [
    "#this is a single line comment\n",
    "'''this is a\n",
    "multiline comment'''"
   ]
  },
  {
   "cell_type": "markdown",
   "metadata": {},
   "source": [
    "<h1>String</h1>"
   ]
  },
  {
   "cell_type": "code",
   "execution_count": 8,
   "metadata": {},
   "outputs": [
    {
     "name": "stdout",
     "output_type": "stream",
     "text": [
      "SachinRamesh\n",
      "The God of cricket is Sachin Ramesh\n"
     ]
    }
   ],
   "source": [
    "#String Concatination\n",
    "name1 = 'Sachin'\n",
    "name2 = 'Ramesh'\n",
    "print(name1 + name2)\n",
    "print(\"%s %s %s\" %(\"The God of cricket is\",name1,name2))"
   ]
  },
  {
   "cell_type": "markdown",
   "metadata": {},
   "source": [
    "<h1>List</h1>"
   ]
  },
  {
   "cell_type": "code",
   "execution_count": 9,
   "metadata": {},
   "outputs": [
    {
     "name": "stdout",
     "output_type": "stream",
     "text": [
      "[1, 2, 3, 4, 5]\n",
      "['Ram', 'Shayam', 'Ravi', 'Gopal', 'Ali']\n"
     ]
    }
   ],
   "source": [
    "a = [1,2,3,4,5]\n",
    "print (a)\n",
    "str = ['Ram','Shayam','Ravi','Gopal','Ali']\n",
    "print(str)"
   ]
  },
  {
   "cell_type": "code",
   "execution_count": 10,
   "metadata": {},
   "outputs": [
    {
     "name": "stdout",
     "output_type": "stream",
     "text": [
      "Ravi\n"
     ]
    }
   ],
   "source": [
    "#Selecting an element\n",
    "print(str[2])"
   ]
  },
  {
   "cell_type": "code",
   "execution_count": 11,
   "metadata": {},
   "outputs": [
    {
     "name": "stdout",
     "output_type": "stream",
     "text": [
      "['Ram', 'Shayam', 'Hari', 'Gopal', 'Ali']\n"
     ]
    }
   ],
   "source": [
    "#Modifing list\n",
    "str[2] = 'Hari'\n",
    "print(str)"
   ]
  },
  {
   "cell_type": "code",
   "execution_count": 12,
   "metadata": {},
   "outputs": [
    {
     "name": "stdout",
     "output_type": "stream",
     "text": [
      "['Ram', '555', [1, 2, 3, 4]]\n"
     ]
    }
   ],
   "source": [
    "#Mixed List\n",
    "mix = ['Ram','555',[1,2,3,4]]\n",
    "print (mix)"
   ]
  },
  {
   "cell_type": "code",
   "execution_count": 13,
   "metadata": {},
   "outputs": [
    {
     "name": "stdout",
     "output_type": "stream",
     "text": [
      "['Ram', 'Shayam', 'Hari', 'Gopal', 'Ali', 8]\n",
      "['Ram', 'Shayam', 'Rahim', 'Hari', 'Gopal', 'Ali', 8]\n"
     ]
    }
   ],
   "source": [
    "#Append\n",
    "str.append(8)\n",
    "print(str)\n",
    "#at particuler position - insert\n",
    "str.insert(2,'Rahim')\n",
    "print(str)"
   ]
  },
  {
   "cell_type": "markdown",
   "metadata": {},
   "source": [
    "<h3>Note:</h3>\n",
    "a.append(y) argument is value<br>\n",
    "a.insert(x,y) argument is position,value<br>\n",
    "a.remove(y) argument is value<br>\n",
    "del a[x] argument is position"
   ]
  },
  {
   "cell_type": "code",
   "execution_count": 16,
   "metadata": {},
   "outputs": [
    {
     "name": "stdout",
     "output_type": "stream",
     "text": [
      "['Ram', 'Shayam', 'Rahim', 'Hari', 'Gopal', 'Ali']\n"
     ]
    }
   ],
   "source": [
    "#Remove\n",
    "str.remove(8)#pass element value as argument\n",
    "print(str)"
   ]
  },
  {
   "cell_type": "code",
   "execution_count": 18,
   "metadata": {},
   "outputs": [
    {
     "name": "stdout",
     "output_type": "stream",
     "text": [
      "['Ram', 'Shayam', 'Rahim', 'Hari', 'Gopal']\n"
     ]
    }
   ],
   "source": [
    "#Delete\n",
    "del(str[5])\n",
    "print(str)"
   ]
  },
  {
   "cell_type": "code",
   "execution_count": 21,
   "metadata": {},
   "outputs": [
    {
     "name": "stdout",
     "output_type": "stream",
     "text": [
      "['Ram', 'Shayam', 'Rahim', 'Hari']\n",
      "['Rahim', 'Hari', 'Gopal']\n",
      "['Ram', 'Shayam', 'Rahim', 'Hari']\n"
     ]
    }
   ],
   "source": [
    "#Selection of Multiple elements / Slicing\n",
    "print (str[0:4])\n",
    "print (str[2:])\n",
    "print (str[:4])"
   ]
  },
  {
   "cell_type": "code",
   "execution_count": 23,
   "metadata": {},
   "outputs": [
    {
     "name": "stdout",
     "output_type": "stream",
     "text": [
      "[[1, 2, 3, 4], [5, 6, 7, 8]]\n",
      "[1, 2, 3, 4, 5, 6, 7, 8]\n"
     ]
    }
   ],
   "source": [
    "#List within a list\n",
    "a = [1,2,3,4]\n",
    "b = [5,6,7,8]\n",
    "c = [a,b]\n",
    "print (c)\n",
    "#Adding lists\n",
    "d = a + b\n",
    "print(d)"
   ]
  },
  {
   "cell_type": "code",
   "execution_count": 24,
   "metadata": {},
   "outputs": [
    {
     "name": "stdout",
     "output_type": "stream",
     "text": [
      "8\n"
     ]
    }
   ],
   "source": [
    "#Size of list\n",
    "print(len(d))"
   ]
  },
  {
   "cell_type": "code",
   "execution_count": 28,
   "metadata": {},
   "outputs": [
    {
     "name": "stdout",
     "output_type": "stream",
     "text": [
      "['Ali', 'Gopal', 'Ram', 'Ravi', 'Shayam']\n",
      "['Shayam', 'Ravi', 'Ram', 'Gopal', 'Ali']\n"
     ]
    }
   ],
   "source": [
    "#Sorting\n",
    "str = ['Ram','Shayam','Ravi','Gopal','Ali']\n",
    "str.sort()\n",
    "print(str)\n",
    "#Reverse\n",
    "str.reverse()\n",
    "print(str)"
   ]
  },
  {
   "cell_type": "code",
   "execution_count": 33,
   "metadata": {},
   "outputs": [
    {
     "name": "stdout",
     "output_type": "stream",
     "text": [
      "Shayam\n",
      "Ali\n",
      "['Ram', 'Shayam', 'Ravi', 'Gopal', 'Ali', 'Ram', 'Shayam', 'Ravan']\n",
      "[['Ram', 'Shayam', 'Ravi', 'Gopal', 'Ali'], ['Ram', 'Shayam', 'Ravan']]\n",
      "['Ram', 'Shayam', 'Ravi', 'Gopal', 'Ali']\n",
      "['Ram', 'Shayam', 'Ravan']\n"
     ]
    }
   ],
   "source": [
    "#Max Min\n",
    "a = ['Ram','Shayam','Ravi','Gopal','Ali']\n",
    "b = ['Ram', 'Shayam', 'Ravan']\n",
    "print(max(a))\n",
    "print(min(a))\n",
    "c = a + b\n",
    "print(c)\n",
    "d = [a,b]\n",
    "print(d)\n",
    "print(max(d))\n",
    "print(min(d))"
   ]
  },
  {
   "cell_type": "markdown",
   "metadata": {},
   "source": [
    "<h1>Tuples</h1>"
   ]
  },
  {
   "cell_type": "markdown",
   "metadata": {},
   "source": [
    "Difference between List & Tuples:\n",
    "1. Tuple is immutable list is mutable\n",
    "2. It can be used is dictionary but list we can't\n",
    "3. Tuples are for fixed length but Tuples are for variable length"
   ]
  },
  {
   "cell_type": "code",
   "execution_count": 34,
   "metadata": {},
   "outputs": [
    {
     "name": "stdout",
     "output_type": "stream",
     "text": [
      "4\n",
      "4\n",
      "(1, 2, 3, 4, 6, 7, 8, 9)\n"
     ]
    }
   ],
   "source": [
    "a = (1,2,3,4)\n",
    "b = (6,7,8,9)\n",
    "print(max(a))\n",
    "print(len(a))\n",
    "#a.append(6) gives error because tuples are immutable\n",
    "c = a + b\n",
    "print(c)"
   ]
  },
  {
   "cell_type": "code",
   "execution_count": 36,
   "metadata": {},
   "outputs": [
    {
     "name": "stdout",
     "output_type": "stream",
     "text": [
      "(7, 2, 6, 9)\n",
      "(1, 2, 3, 4)\n"
     ]
    }
   ],
   "source": [
    "#Converting list to tuple and tuple to list\n",
    "m = [7,2,6,9]\n",
    "l = tuple(m)\n",
    "print(l)\n",
    "f = list(a)\n",
    "print(a)"
   ]
  },
  {
   "cell_type": "markdown",
   "metadata": {},
   "source": [
    "<h1>Dictionary</h1>"
   ]
  },
  {
   "cell_type": "markdown",
   "metadata": {},
   "source": [
    "Collection of key value pairs.\n",
    "We can access values through key"
   ]
  },
  {
   "cell_type": "code",
   "execution_count": 43,
   "metadata": {},
   "outputs": [
    {
     "name": "stdout",
     "output_type": "stream",
     "text": [
      "{1: 'Ram', 2: 'Hari', 3: 'Rahim'}\n",
      "{1: 'Ram', 2: 'Hari', 3: 'Rahim', 4: 'Gopal'}\n",
      "{1: 'Sita', 2: 'Hari', 3: 'Rahim', 4: 'Gopal'}\n",
      "Hari\n",
      "dict_keys([1, 2, 3, 4])\n",
      "dict_values(['Sita', 'Hari', 'Rahim', 'Gopal'])\n"
     ]
    }
   ],
   "source": [
    "mydic = {1:'Ram',2:'Hari',3:'Rahim'}\n",
    "print(mydic)\n",
    "mydic[4] = 'Gopal'\n",
    "print(mydic)\n",
    "mydic[1] = 'Sita'\n",
    "print(mydic)\n",
    "#Get\n",
    "print(mydic.get(2))\n",
    "print(mydic.keys())\n",
    "print(mydic.values())"
   ]
  },
  {
   "cell_type": "markdown",
   "metadata": {},
   "source": [
    "<h1>If Else Elif</h1>"
   ]
  },
  {
   "cell_type": "code",
   "execution_count": 48,
   "metadata": {},
   "outputs": [
    {
     "name": "stdout",
     "output_type": "stream",
     "text": [
      "I'm a Teenager\n"
     ]
    }
   ],
   "source": [
    "a = 16\n",
    "if a>=18:\n",
    "    print(\"I'm an Adult\")\n",
    "    \n",
    "elif a>=16 and a<18:\n",
    "    print(\"I'm a Teenager\")\n",
    "    \n",
    "else:\n",
    "    print(\"I'm a Kid\")"
   ]
  },
  {
   "cell_type": "code",
   "execution_count": null,
   "metadata": {},
   "outputs": [],
   "source": []
  }
 ],
 "metadata": {
  "kernelspec": {
   "display_name": "Python 3",
   "language": "python",
   "name": "python3"
  },
  "language_info": {
   "codemirror_mode": {
    "name": "ipython",
    "version": 3
   },
   "file_extension": ".py",
   "mimetype": "text/x-python",
   "name": "python",
   "nbconvert_exporter": "python",
   "pygments_lexer": "ipython3",
   "version": "3.6.4"
  }
 },
 "nbformat": 4,
 "nbformat_minor": 2
}
