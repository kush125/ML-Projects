{
 "cells": [
  {
   "cell_type": "code",
   "execution_count": 5,
   "metadata": {},
   "outputs": [
    {
     "name": "stdout",
     "output_type": "stream",
     "text": [
      "inside if\n",
      "inside else of if\n"
     ]
    }
   ],
   "source": [
    "#Nested if\n",
    "a = 50\n",
    "if (a > 40):\n",
    "    print('inside if')\n",
    "    if (a == 30):\n",
    "        print('inside if of if')\n",
    "    else:\n",
    "        print('inside else of if')\n",
    "else:\n",
    "    print('inside else')"
   ]
  },
  {
   "cell_type": "code",
   "execution_count": 6,
   "metadata": {},
   "outputs": [
    {
     "name": "stdout",
     "output_type": "stream",
     "text": [
      "0\n",
      "1\n",
      "2\n",
      "3\n",
      "4\n",
      "5\n",
      "6\n",
      "7\n",
      "8\n",
      "9\n",
      "10\n",
      "11\n",
      "12\n",
      "13\n",
      "14\n",
      "15\n",
      "16\n",
      "17\n",
      "18\n",
      "19\n"
     ]
    }
   ],
   "source": [
    "#for range\n",
    "for x in range(0,20):\n",
    "    print (x)"
   ]
  },
  {
   "cell_type": "code",
   "execution_count": 9,
   "metadata": {},
   "outputs": [
    {
     "name": "stdout",
     "output_type": "stream",
     "text": [
      "0, 1, 2, 3, 4, 5, 6, 7, 8, 9, 10, 11, 12, 13, 14, 15, 16, 17, 18, 19, "
     ]
    }
   ],
   "source": [
    "#end in print\n",
    "for x in range(0,20):\n",
    "    print (x,end = ', ')"
   ]
  },
  {
   "cell_type": "code",
   "execution_count": 10,
   "metadata": {},
   "outputs": [
    {
     "name": "stdout",
     "output_type": "stream",
     "text": [
      "0\n",
      "1\n",
      "2\n",
      "3\n",
      "4\n",
      "5\n",
      "6\n",
      "7\n",
      "8\n",
      "9\n"
     ]
    }
   ],
   "source": [
    "#while loop\n",
    "a = 0\n",
    "while(a < 10):\n",
    "    print(a)\n",
    "    a+=1"
   ]
  },
  {
   "cell_type": "code",
   "execution_count": 15,
   "metadata": {},
   "outputs": [
    {
     "name": "stdout",
     "output_type": "stream",
     "text": [
      "\n",
      "1 2 3 \n",
      "4 5 6 \n",
      "7 8 9 "
     ]
    }
   ],
   "source": [
    "# 2d list\n",
    "p = [[1,2,3],[4,5,6],[7,8,9]]\n",
    "for x in range(0,3):\n",
    "    print()\n",
    "    for y in range(0,3):\n",
    "        print(p[x][y],end = ' ')"
   ]
  },
  {
   "cell_type": "code",
   "execution_count": 18,
   "metadata": {},
   "outputs": [
    {
     "name": "stdout",
     "output_type": "stream",
     "text": [
      "Enter your name:Kush\n",
      "Hello Kush !!\n"
     ]
    }
   ],
   "source": [
    "#input\n",
    "name = input ('Enter your name:')\n",
    "print('Hello',name,'!!')"
   ]
  },
  {
   "cell_type": "markdown",
   "metadata": {},
   "source": [
    "### String"
   ]
  },
  {
   "cell_type": "code",
   "execution_count": 25,
   "metadata": {},
   "outputs": [
    {
     "name": "stdout",
     "output_type": "stream",
     "text": [
      "Ram Gopal\n",
      "Ram Gopal\n"
     ]
    }
   ],
   "source": [
    "a = 'Ram'\n",
    "b = 'Gopal'\n",
    "print (a + ' ' + b)\n",
    "print ('%s %s'%(a,b))"
   ]
  },
  {
   "cell_type": "code",
   "execution_count": 36,
   "metadata": {},
   "outputs": [
    {
     "name": "stdout",
     "output_type": "stream",
     "text": [
      "20\n",
      "y\n",
      " \n",
      "a erigpto\n",
      "I am learning python\n",
      "nohtyp gninrael ma I\n",
      "nhy nnalm \n",
      "I am learning python\n",
      "I AM LEARNING PYTHON\n"
     ]
    }
   ],
   "source": [
    "a = 'I am learning python'\n",
    "print(len(a))\n",
    "print(max(a))\n",
    "print(min(a))\n",
    "print(a[2:len(a):2])\n",
    "print(a[0:len(a):1])\n",
    "print(a[::-1])\n",
    "print(a[::-2])"
   ]
  },
  {
   "cell_type": "code",
   "execution_count": 46,
   "metadata": {},
   "outputs": [
    {
     "name": "stdout",
     "output_type": "stream",
     "text": [
      "I am learning python\n",
      "I AM LEARNING PYTHON\n",
      "i am learning python\n",
      "2\n",
      "1\n",
      "7\n",
      "-1\n"
     ]
    }
   ],
   "source": [
    "print(a.capitalize())#capitalise first letter of sentence\n",
    "print(a.upper())\n",
    "print(a.lower())\n",
    "print(a.count('a'))#counts no. of a's in a\n",
    "print(a.count('a',3,len(a)))# no. of a's starting from 3rd index\n",
    "print(a.index('a',3,len(a)))#returns index , throws ValueError if not found\n",
    "print(a.find('z'))#returns same as index, returns -1 when it doesn't find the substring"
   ]
  },
  {
   "cell_type": "code",
   "execution_count": 55,
   "metadata": {},
   "outputs": [
    {
     "name": "stdout",
     "output_type": "stream",
     "text": [
      "     Hezzlo Fish, Have a nice day      \n",
      "Hello Fish, Have a nice day\n",
      "   @@@Hello Fish, Have a nice day\n"
     ]
    }
   ],
   "source": [
    "str1 = '     Hello Fish, Have a nice day      '\n",
    "print(str1.replace('l','zz',1))#replaces arg1 with arg2, arg2 denotes no of arg1 to be replaced\n",
    "print(str1.strip())#removes leading and trailing spaces by default\n",
    "str2 = '@   @@@Hello Fish, Have a nice day@'\n",
    "print(str2.strip('@'))#replaces leading and trailing arg"
   ]
  },
  {
   "cell_type": "code",
   "execution_count": 57,
   "metadata": {},
   "outputs": [
    {
     "name": "stdout",
     "output_type": "stream",
     "text": [
      "['Ram', 'is', 'a', 'good', 'boy']\n",
      "['Ram', 'is', 'a good boy']\n"
     ]
    }
   ],
   "source": [
    "#split\n",
    "x = 'Ram is a good boy'\n",
    "print(x.split())#splits from spaces by default\n",
    "print(x.split(' ',2))"
   ]
  },
  {
   "cell_type": "markdown",
   "metadata": {},
   "source": [
    "### Regular Expression"
   ]
  },
  {
   "cell_type": "code",
   "execution_count": 59,
   "metadata": {},
   "outputs": [
    {
     "data": {
      "text/plain": [
       "\"\\nRam is 24 and Sita is 22.\\nHari is 31 and Rahim is 27\\nname = ['Ram','Sita','Hari','Rahim']\\nage = [24,22,31,27]\\n\""
      ]
     },
     "execution_count": 59,
     "metadata": {},
     "output_type": "execute_result"
    }
   ],
   "source": [
    "'''\n",
    "Problem:\n",
    "Ram is 24 and Sita is 22.\n",
    "Hari is 31 and Rahim is 27\n",
    "name = ['Ram','Sita','Hari','Rahim']\n",
    "age = [24,22,31,27]\n",
    "'''"
   ]
  },
  {
   "cell_type": "code",
   "execution_count": null,
   "metadata": {},
   "outputs": [],
   "source": []
  }
 ],
 "metadata": {
  "kernelspec": {
   "display_name": "Python 3",
   "language": "python",
   "name": "python3"
  },
  "language_info": {
   "codemirror_mode": {
    "name": "ipython",
    "version": 3
   },
   "file_extension": ".py",
   "mimetype": "text/x-python",
   "name": "python",
   "nbconvert_exporter": "python",
   "pygments_lexer": "ipython3",
   "version": "3.6.4"
  }
 },
 "nbformat": 4,
 "nbformat_minor": 2
}
